{
 "cells": [
  {
   "cell_type": "markdown",
   "id": "4c612b60-35d4-42fc-8abf-4402da38fa9e",
   "metadata": {},
   "source": [
    "# Basic of Limits and Continuity\n",
    "## Limit of a Function and Limit Laws"
   ]
  },
  {
   "cell_type": "code",
   "execution_count": null,
   "id": "2d69d066-91c3-4e5d-8cd9-2a921c1ae782",
   "metadata": {},
   "outputs": [],
   "source": []
  }
 ],
 "metadata": {
  "kernelspec": {
   "display_name": "Python 3 (ipykernel)",
   "language": "python",
   "name": "python3"
  },
  "language_info": {
   "codemirror_mode": {
    "name": "ipython",
    "version": 3
   },
   "file_extension": ".py",
   "mimetype": "text/x-python",
   "name": "python",
   "nbconvert_exporter": "python",
   "pygments_lexer": "ipython3",
   "version": "3.12.3"
  }
 },
 "nbformat": 4,
 "nbformat_minor": 5
}
