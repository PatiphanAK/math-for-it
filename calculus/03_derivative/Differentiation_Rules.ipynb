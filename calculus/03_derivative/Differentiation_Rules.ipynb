{
 "cells": [
  {
   "cell_type": "markdown",
   "id": "68216bf5-a9be-44f5-b665-bd95d17ce96f",
   "metadata": {},
   "source": [
    "# Differentiation Rules\n",
    "This notebook cover differentiation rules that make you calculate derivate more faster than using defination"
   ]
  },
  {
   "cell_type": "markdown",
   "id": "1fb7295f-46cf-4d84-b025-6ffaba5f92d7",
   "metadata": {},
   "source": [
    "## Basic Rules of Derivative"
   ]
  },
  {
   "cell_type": "markdown",
   "id": "2c5be5a0-fb23-4550-a1d3-ead388dab53d",
   "metadata": {},
   "source": [
    "### Derivative of a Constant\n",
    "The derivative of a constant function is always zero. This can be understood intuitively and is also proven by the limit definition of a derivative.\n",
    "\n",
    "Let's consider a function $f(x)$ where the output is a constant value, $c$, regardless of the input $x$. In other words, $f(x) = c$. The graph of this function is a horizontal line.\n",
    "\n",
    "Using the **limit definition** of the derivative, we have:\n",
    "\n",
    "$$f'(x) = \\lim_{h \\to 0} \\frac{f(x+h) - f(x)}{h}$$\n",
    "\n",
    "Since $f(x) = c$ for all values of $x$, both $f(x+h)$ and $f(x)$ are equal to $c$. Substituting these into the formula:\n",
    "\n",
    "$$f'(x) = \\lim_{h \\to 0} \\frac{c - c}{h} = \\lim_{h \\to 0} \\frac{0}{h}$$\n",
    "\n",
    "As $h$ approaches 0, the numerator is always 0, so the entire expression is 0.\n",
    "\n",
    "$$f'(x) = 0$$\n",
    "\n",
    "In Leibniz notation, this is written as:\n",
    "\n",
    "<div style=\"border: 6px solid #0ea5e9; background-color:#f0f9ff; padding: 10px; margin:10px 0;\">\n",
    "$$\\frac{d}{dx}(c) = 0$$\n",
    "</div>\n",
    "\n",
    "This result makes sense geometrically: the derivative represents the slope of the tangent line to the function's graph. A constant function is a horizontal line, and the slope of any horizontal line is always 0."
   ]
  },
  {
   "cell_type": "markdown",
   "id": "cbc681d4-580d-40a4-aba6-91094ecacaf9",
   "metadata": {},
   "source": [
    "### Deriving the Power Rule for Positive Integer Powers\n",
    "\n",
    "The derivation of the power rule for a function of the form $f(x) = x^n$ where $n$ is a positive integer relies on the limit definition of the derivative and a specific algebraic identity.\n",
    "\n",
    "The identity you are referring to is for the difference of powers:\n",
    "\n",
    "$$z^n - x^n = (z - x)(z^{n-1} + z^{n-2}x + z^{n-3}x^2 + \\dots + zx^{n-2} + x^{n-1})$$\n",
    "\n",
    "This is a key step in proving the power rule.\n",
    "\n",
    "To derive the power rule, we start with the limit definition of the derivative:\n",
    "\n",
    "$$f'(x) = \\lim_{h \\to 0} \\frac{f(x+h) - f(x)}{h}$$\n",
    "\n",
    "Let $f(x) = x^n$. Then, $f(x+h) = (x+h)^n$. Substituting this into the definition:\n",
    "\n",
    "$$f'(x) = \\lim_{h \\to 0} \\frac{(x+h)^n - x^n}{h}$$\n",
    "\n",
    "Now, let's use the identity for the difference of powers by letting $z = (x+h)$. The numerator, $(x+h)^n - x^n$, can be written as:\n",
    "\n",
    "$$(x+h)^n - x^n = ((x+h) - x)((x+h)^{n-1} + (x+h)^{n-2}x + \\dots + x^{n-1})$$\n",
    "\n",
    "Since $((x+h) - x) = h$, the expression becomes:\n",
    "\n",
    "$$(x+h)^n - x^n = h((x+h)^{n-1} + (x+h)^{n-2}x + \\dots + x^{n-1})$$\n",
    "\n",
    "Now, substitute this back into the limit expression:\n",
    "\n",
    "$$f'(x) = \\lim_{h \\to 0} \\frac{h((x+h)^{n-1} + (x+h)^{n-2}x + \\dots + x^{n-1})}{h}$$\n",
    "\n",
    "We can cancel out the $h$ in the numerator and denominator (since $h \\neq 0$ as $h \\to 0$):\n",
    "\n",
    "$$f'(x) = \\lim_{h \\to 0} ((x+h)^{n-1} + (x+h)^{n-2}x + \\dots + x^{n-1})$$\n",
    "\n",
    "As $h$ approaches 0, each term in the sum simplifies. The term $(x+h)^k$ becomes $x^k$. The sum contains $n$ terms in total.\n",
    "* The first term, $(x+h)^{n-1}$, approaches $x^{n-1}$.\n",
    "* The second term, $(x+h)^{n-2}x$, approaches $x^{n-2}x = x^{n-1}$.\n",
    "* ...and so on.\n",
    "* The final term, $x^{n-1}$, remains $x^{n-1}$.\n",
    "\n",
    "Since there are **n terms**, and each term approaches $x^{n-1}$, the sum is:\n",
    "\n",
    "$$f'(x) = x^{n-1} + x^{n-1} + \\dots + x^{n-1} = n \\cdot x^{n-1}$$\n",
    "\n",
    "This gives us the **power rule**:\n",
    "\n",
    "<div style=\"border: 6px solid #0ea5e9; background-color:#f0f9ff; padding: 10px; margin:10px 0;\">\n",
    "$$\n",
    "\\frac{d}{dx} \\bigl(x^n \\bigr) = n x^{\\,n-1}, \n",
    "\\quad \\forall n \\in \\mathbb{R}, \\; x > 0\n",
    "$$\n",
    "</div>"
   ]
  },
  {
   "cell_type": "code",
   "execution_count": null,
   "id": "832dc98e-c326-431b-b989-3129dbe07378",
   "metadata": {},
   "outputs": [],
   "source": []
  }
 ],
 "metadata": {
  "kernelspec": {
   "display_name": "Python 3 (ipykernel)",
   "language": "python",
   "name": "python3"
  },
  "language_info": {
   "codemirror_mode": {
    "name": "ipython",
    "version": 3
   },
   "file_extension": ".py",
   "mimetype": "text/x-python",
   "name": "python",
   "nbconvert_exporter": "python",
   "pygments_lexer": "ipython3",
   "version": "3.12.3"
  }
 },
 "nbformat": 4,
 "nbformat_minor": 5
}
