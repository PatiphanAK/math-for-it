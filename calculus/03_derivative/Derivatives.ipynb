{
 "cells": [
  {
   "cell_type": "markdown",
   "id": "049cac15-399d-4786-b6e5-81089943d312",
   "metadata": {},
   "source": [
    "# **Derivatives**"
   ]
  },
  {
   "cell_type": "code",
   "execution_count": null,
   "id": "54c50de4-241d-4d54-8728-89eff108788b",
   "metadata": {},
   "outputs": [],
   "source": []
  }
 ],
 "metadata": {
  "kernelspec": {
   "display_name": "Python 3 (ipykernel)",
   "language": "python",
   "name": "python3"
  },
  "language_info": {
   "codemirror_mode": {
    "name": "ipython",
    "version": 3
   },
   "file_extension": ".py",
   "mimetype": "text/x-python",
   "name": "python",
   "nbconvert_exporter": "python",
   "pygments_lexer": "ipython3",
   "version": "3.12.3"
  }
 },
 "nbformat": 4,
 "nbformat_minor": 5
}
