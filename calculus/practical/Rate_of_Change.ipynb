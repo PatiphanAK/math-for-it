{
 "cells": [
  {
   "cell_type": "markdown",
   "id": "65bb71e6-755d-4984-b2bd-e218883b34d5",
   "metadata": {},
   "source": [
    "### Instantaneous Rates of Change\n",
    "we know that\n",
    "\n",
    "The instantaneous rate of change of  f  with respect to x at x 0 is\n",
    "the derivative\n",
    "$$\n",
    "\\boxed{f'(x_0) = \\lim_{h \\to 0}\\frac{f(x_0+h)-f(x_0)}{h}}\n",
    "$$\n",
    "provided the limit exists"
   ]
  },
  {
   "cell_type": "markdown",
   "id": "7a1c0f15-3587-4cb6-a066-b86c00d9a46f",
   "metadata": {},
   "source": [
    "### **Exercise: Rate of Change of Area**\n",
    "\n",
    "1. The area, $A$, of a circle is given by the equation $A = \\frac{\\pi}{4}D^2$, where $D$ is the diameter.\n",
    "Find the rate at which the area changes with respect to the diameter when the diameter is 10 meters."
   ]
  },
  {
   "cell_type": "code",
   "execution_count": 12,
   "id": "e19095d5-4b7e-44a9-8016-17313ca790c6",
   "metadata": {},
   "outputs": [
    {
     "name": "stdout",
     "output_type": "stream",
     "text": [
      "Rate which the area changes with respect to the diameter, when diameter = 10 is 15.707963267949026\n"
     ]
    }
   ],
   "source": [
    "# Solution\n",
    "from scipy.differentiate import derivative\n",
    "import numpy as np\n",
    "\n",
    "def area_of_circle(diameter):\n",
    "    return np.pi/4 * diameter**2\n",
    "\n",
    "rate_of_change = derivative(area_of_circle, 10.0)\n",
    "print(f\"Rate which the area changes with respect to the diameter, when diameter = 10 is {rate_of_change.df}\")"
   ]
  },
  {
   "cell_type": "code",
   "execution_count": null,
   "id": "b1056b8e-6336-434d-8f6c-15ef895bf796",
   "metadata": {},
   "outputs": [],
   "source": []
  }
 ],
 "metadata": {
  "kernelspec": {
   "display_name": "Python 3 (ipykernel)",
   "language": "python",
   "name": "python3"
  },
  "language_info": {
   "codemirror_mode": {
    "name": "ipython",
    "version": 3
   },
   "file_extension": ".py",
   "mimetype": "text/x-python",
   "name": "python",
   "nbconvert_exporter": "python",
   "pygments_lexer": "ipython3",
   "version": "3.12.3"
  }
 },
 "nbformat": 4,
 "nbformat_minor": 5
}
